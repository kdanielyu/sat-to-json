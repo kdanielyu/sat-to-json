{
 "cells": [
  {
   "cell_type": "code",
   "execution_count": null,
   "id": "9635f9dc-aa0f-4a80-94f3-684e931463ff",
   "metadata": {},
   "outputs": [],
   "source": [
    "#predict from roboflow api\n",
    "from roboflow import Roboflow\n",
    "import json\n",
    "\n",
    "rf = Roboflow(api_key=\"MB1xObhx9BfnWlW9gfY3\") #Replace with your own API key from Roboflow\n",
    "project = rf.workspace().project(\"roofs-qkk7q\")\n",
    "model = project.version(1).model\n",
    "model.confidence = 10\n",
    "model.overlap = 50\n",
    "\n",
    "# Infer on a local image\n",
    "json_data = model.predict(\"sat-t1-cropped.png\", confidence=20).json()\n",
    "\n",
    "with open('prediction-t1-cropped-conf20-v1.json','w') as json_file:\n",
    "    json.dump(json_data, json_file, indent=4)\n",
    "\n",
    "# infer on an image hosted elsewhere\n",
    "# print(model.predict(\"URL_OF_YOUR_IMAGE\").json())\n",
    "\n",
    "# save an image annotated with your predictions\n",
    "model.predict(\"sat-t1-cropped.png\", confidence=20).save(\"prediction-t1-cropped-conf20-v1.jpg\")"
   ]
  }
 ],
 "metadata": {
  "kernelspec": {
   "display_name": "my_venv",
   "language": "python",
   "name": "my_venv"
  },
  "language_info": {
   "codemirror_mode": {
    "name": "ipython",
    "version": 3
   },
   "file_extension": ".py",
   "mimetype": "text/x-python",
   "name": "python",
   "nbconvert_exporter": "python",
   "pygments_lexer": "ipython3",
   "version": "3.11.5"
  }
 },
 "nbformat": 4,
 "nbformat_minor": 5
}
