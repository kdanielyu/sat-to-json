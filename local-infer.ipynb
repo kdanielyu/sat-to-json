{
 "cells": [
  {
   "cell_type": "code",
   "execution_count": null,
   "id": "c6bb2d2f-0483-44e9-b157-552906dd6332",
   "metadata": {
    "scrolled": true
   },
   "outputs": [],
   "source": [
    "#predict in tensor format\n",
    "\n",
    "import numpy as np\n",
    "from PIL import Image\n",
    "import torch\n",
    "\n",
    "# Assuming you've loaded the model as before:\n",
    "model = torch.hub.load('ultralytics/yolov5', 'custom', 'yolov5/runs/train-seg/exp3/weights/best.pt')\n",
    "\n",
    "# Load image using PIL\n",
    "img_path = 'sat-t1-cropped.png'\n",
    "img_pil = Image.open(img_path)\n",
    "\n",
    "# Convert PIL Image to a tensor\n",
    "img_tensor = torch.from_numpy(np.array(img_pil)).permute(2,0,1).float() / 255.0  # Normalize to [0, 1]\n",
    "img_tensor = img_tensor.unsqueeze(0)  # Add a batch dimension\n",
    "\n",
    "# Inference\n",
    "results = model(img_tensor)\n",
    "\n",
    "# Results\n",
    "print(type(results))\n",
    "print(results)\n"
   ]
  },
  {
   "cell_type": "code",
   "execution_count": 5,
   "id": "7ea35234-9e63-49e6-a649-af9628398862",
   "metadata": {},
   "outputs": [
    {
     "name": "stderr",
     "output_type": "stream",
     "text": [
      "Using cache found in /Users/danielyu/.cache/torch/hub/ultralytics_yolov5_master\n",
      "YOLOv5 🚀 2023-10-23 Python-3.11.5 torch-2.1.0 CPU\n",
      "\n",
      "Fusing layers... \n",
      "Model summary: 165 layers, 7398422 parameters, 0 gradients, 25.7 GFLOPs\n",
      "WARNING ⚠️ YOLOv5 SegmentationModel is not yet AutoShape compatible. You will not be able to run inference with this model.\n"
     ]
    }
   ],
   "source": [
    "import torch\n",
    "from pathlib import Path\n",
    "import json\n",
    "from PIL import Image\n",
    "import numpy as np\n",
    "\n",
    "model = torch.hub.load('ultralytics/yolov5', 'custom', 'yolov5/runs/train-seg/exp3/weights/best.pt')\n",
    "\n",
    "\n",
    "class YOLOv5Model:\n",
    "    def __init__(self, model_path):\n",
    "        # Load the model\n",
    "        self.model = torch.load(model_path, map_location='cpu')['model'].float().eval()\n",
    "\n",
    "    def predict(self, image_tensor):\n",
    "        # Inference\n",
    "        with torch.no_grad():\n",
    "            results = self.model(image_tensor.unsqueeze(0))\n",
    "        return results\n",
    "\n",
    "    def to_json(self, results):\n",
    "        # Extracting detection results\n",
    "        labels, cords = results[0][0][:, -1].int().tolist(), results[0][0][:, :-1].tolist()\n",
    "        json_output = [{\"label\": label, \"coordinates\": cord} for label, cord in zip(labels, cords)]\n",
    "        return json_output\n",
    "\n",
    "if __name__ == \"__main__\":\n",
    "    MODEL_PATH = Path(\"yolov5/runs/train-seg/exp3/weights/best.pt\")\n",
    "    IMG_PATH = 'sat-image-p3.png'\n",
    "    OUTPUT_JSON = 'sat-image-p3v1.json'\n",
    "    OUTPUT_IMG = 'sat-image-p3v1.jpg'\n",
    "    \n",
    "    yolo_model = YOLOv5Model(MODEL_PATH)\n",
    "    \n",
    "    # Load the image and convert to numpy array\n",
    "    img_pil = Image.open(IMG_PATH)\n",
    "    img_np = np.array(img_pil)\n",
    "    img_tensor = torch.from_numpy(img_np).permute(2, 0, 1).float() / 255.0\n",
    "    \n",
    "    predictions = yolo_model.predict(img_tensor)\n",
    "    \n",
    "    with open(OUTPUT_JSON, 'w') as json_file:\n",
    "        json.dump(yolo_model.to_json(predictions), json_file, indent=4)\n",
    "    \n"
   ]
  },
  {
   "cell_type": "code",
   "execution_count": 9,
   "id": "2091144f-c1ab-4d71-8731-153ad4b51cbb",
   "metadata": {},
   "outputs": [
    {
     "name": "stdout",
     "output_type": "stream",
     "text": [
      "\u001b[34m\u001b[1msegment/predict: \u001b[0mweights=['yolov5/runs/train-seg/exp3/weights/best.pt'], source=sat-image-p3.png, data=Roofs-1/data.yaml, imgsz=[640, 640], conf_thres=0.1, iou_thres=0.45, max_det=1000, device=, view_img=False, save_txt=True, save_conf=True, save_crop=False, nosave=False, classes=None, agnostic_nms=False, augment=False, visualize=False, update=False, project=yolov5/runs/predict-seg, name=exp, exist_ok=False, line_thickness=1, hide_labels=True, hide_conf=False, half=False, dnn=False, vid_stride=1, retina_masks=False\n",
      "YOLOv5 🚀 v7.0-227-ge4df1ec Python-3.11.5 torch-2.1.0 CPU\n",
      "\n",
      "Fusing layers... \n",
      "Model summary: 165 layers, 7398422 parameters, 0 gradients, 25.7 GFLOPs\n",
      "image 1/1 /Users/danielyu/heatapp/sat-image-p3.png: 640x640 73 houses, 115.5ms\n",
      "Speed: 0.8ms pre-process, 115.5ms inference, 1.2ms NMS per image at shape (1, 3, 640, 640)\n",
      "Results saved to \u001b[1myolov5/runs/predict-seg/exp3\u001b[0m\n",
      "1 labels saved to yolov5/runs/predict-seg/exp3/labels\n"
     ]
    }
   ],
   "source": [
    "!python3 yolov5/segment/predict.py --hide-labels --save-txt --line-thickness 1 --data Roofs-1/data.yaml --weights yolov5/runs/train-seg/exp3/weights/best.pt --img 640 --conf 0.1 --source sat-image-p3.png "
   ]
  },
  {
   "cell_type": "code",
   "execution_count": null,
   "id": "c1c7d8d6-a4fc-486f-a8e9-1f375036f7e7",
   "metadata": {
    "scrolled": true
   },
   "outputs": [],
   "source": [
    "from IPython.display import display, Image\n",
    "\n",
    "img = Image(filename='yolov5/runs/predict-seg/exp3/sat-image-p3.png', width=640)\n",
    "display(img)\n"
   ]
  }
 ],
 "metadata": {
  "kernelspec": {
   "display_name": "my_venv",
   "language": "python",
   "name": "my_venv"
  },
  "language_info": {
   "codemirror_mode": {
    "name": "ipython",
    "version": 3
   },
   "file_extension": ".py",
   "mimetype": "text/x-python",
   "name": "python",
   "nbconvert_exporter": "python",
   "pygments_lexer": "ipython3",
   "version": "3.11.5"
  }
 },
 "nbformat": 4,
 "nbformat_minor": 5
}
